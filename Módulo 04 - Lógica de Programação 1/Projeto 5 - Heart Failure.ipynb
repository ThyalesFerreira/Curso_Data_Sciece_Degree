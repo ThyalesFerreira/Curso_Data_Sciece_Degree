{
 "cells": [
  {
   "cell_type": "markdown",
   "id": "ea7e9b5b",
   "metadata": {},
   "source": [
    "## Heart Failure\n",
    "\n",
    "Dataset: https://www.kaggle.com/andrewmvd/heart-failure-clinical-data\n",
    "\n",
    "Features: https://archive.ics.uci.edu/ml/datasets/Heart+failure+clinical+records\n",
    "\n",
    "Artigo: https://bmcmedinformdecismak.biomedcentral.com/articles/10.1186/s12911-020-1023-5\n",
    "\n",
    "Cardiovascular diseases (CVDs) are the number 1 cause of death globally, taking an estimated 17.9 million lives each year, which accounts for 31% of all deaths worlwide.\n",
    "Heart failure is a common event caused by CVDs and this dataset contains 12 features that can be used to predict mortality by heart failure.\n",
    "\n",
    "Most cardiovascular diseases can be prevented by addressing behavioural risk factors such as tobacco use, unhealthy diet and obesity, physical inactivity and harmful use of alcohol using population-wide strategies.\n",
    "\n",
    "People with cardiovascular disease or who are at high cardiovascular risk (due to the presence of one or more risk factors such as hypertension, diabetes, hyperlipidaemia or already established disease) need early detection and management wherein a machine learning model can be of great help.\n",
    "\n",
    "\n",
    "### Features:\n",
    "- age: age of the patient (years)\n",
    "- anaemia: decrease of red blood cells or hemoglobin (boolean) - **{0: False, 1: True}**\n",
    "- high blood pressure: if the patient has hypertension (boolean) - **{0: False, 1: True}**\n",
    "- creatinine phosphokinase (CPK): level of the CPK enzyme in the blood (mcg/L) - **entre 6000 - 13000**\n",
    "- diabetes: if the patient has diabetes (boolean) - **{0: False, 1: True}**\n",
    "- ejection fraction: percentage of blood leaving the heart at each contraction (percentage)\n",
    "- platelets: platelets in the blood (kiloplatelets/mL)\n",
    "- sex: woman or man (binary) - **{0: \"Woman\", 1: \"Man\"}**\n",
    "- serum creatinine: level of serum creatinine in the blood (mg/dL)\n",
    "- serum sodium: level of serum sodium in the blood (mEq/L)\n",
    "- smoking: if the patient smokes or not (boolean) - **{0: False, 1: True}**\n",
    "- time: follow-up period (days) - **Período de acompanhamento**\n",
    "- [target] death event: if the patient deceased during the follow-up period (boolean) - **{0: False, 1: True}**"
   ]
  },
  {
   "cell_type": "code",
   "execution_count": 1,
   "id": "0b50ecc2",
   "metadata": {},
   "outputs": [],
   "source": [
    "import numpy as np\n",
    "import pandas as pd\n",
    "import matplotlib.pyplot as plt"
   ]
  },
  {
   "cell_type": "code",
   "execution_count": 2,
   "id": "1f7b7754",
   "metadata": {},
   "outputs": [],
   "source": [
    "heart = pd.read_csv(\"heart_failure_dataset.csv\")"
   ]
  },
  {
   "cell_type": "code",
   "execution_count": 3,
   "id": "df6c5db8",
   "metadata": {},
   "outputs": [
    {
     "data": {
      "text/html": [
       "<div>\n",
       "<style scoped>\n",
       "    .dataframe tbody tr th:only-of-type {\n",
       "        vertical-align: middle;\n",
       "    }\n",
       "\n",
       "    .dataframe tbody tr th {\n",
       "        vertical-align: top;\n",
       "    }\n",
       "\n",
       "    .dataframe thead th {\n",
       "        text-align: right;\n",
       "    }\n",
       "</style>\n",
       "<table border=\"1\" class=\"dataframe\">\n",
       "  <thead>\n",
       "    <tr style=\"text-align: right;\">\n",
       "      <th></th>\n",
       "      <th>age</th>\n",
       "      <th>anaemia</th>\n",
       "      <th>creatinine_phosphokinase</th>\n",
       "      <th>diabetes</th>\n",
       "      <th>ejection_fraction</th>\n",
       "      <th>high_blood_pressure</th>\n",
       "      <th>platelets</th>\n",
       "      <th>serum_creatinine</th>\n",
       "      <th>serum_sodium</th>\n",
       "      <th>sex</th>\n",
       "      <th>smoking</th>\n",
       "      <th>time</th>\n",
       "      <th>DEATH_EVENT</th>\n",
       "    </tr>\n",
       "  </thead>\n",
       "  <tbody>\n",
       "    <tr>\n",
       "      <th>0</th>\n",
       "      <td>75.0</td>\n",
       "      <td>0</td>\n",
       "      <td>582</td>\n",
       "      <td>0</td>\n",
       "      <td>20</td>\n",
       "      <td>1</td>\n",
       "      <td>265000.00</td>\n",
       "      <td>1.9</td>\n",
       "      <td>130</td>\n",
       "      <td>1</td>\n",
       "      <td>0</td>\n",
       "      <td>4</td>\n",
       "      <td>1</td>\n",
       "    </tr>\n",
       "    <tr>\n",
       "      <th>1</th>\n",
       "      <td>55.0</td>\n",
       "      <td>0</td>\n",
       "      <td>7861</td>\n",
       "      <td>0</td>\n",
       "      <td>38</td>\n",
       "      <td>0</td>\n",
       "      <td>263358.03</td>\n",
       "      <td>1.1</td>\n",
       "      <td>136</td>\n",
       "      <td>1</td>\n",
       "      <td>0</td>\n",
       "      <td>6</td>\n",
       "      <td>1</td>\n",
       "    </tr>\n",
       "    <tr>\n",
       "      <th>2</th>\n",
       "      <td>65.0</td>\n",
       "      <td>0</td>\n",
       "      <td>146</td>\n",
       "      <td>0</td>\n",
       "      <td>20</td>\n",
       "      <td>0</td>\n",
       "      <td>162000.00</td>\n",
       "      <td>1.3</td>\n",
       "      <td>129</td>\n",
       "      <td>1</td>\n",
       "      <td>1</td>\n",
       "      <td>7</td>\n",
       "      <td>1</td>\n",
       "    </tr>\n",
       "    <tr>\n",
       "      <th>3</th>\n",
       "      <td>50.0</td>\n",
       "      <td>1</td>\n",
       "      <td>111</td>\n",
       "      <td>0</td>\n",
       "      <td>20</td>\n",
       "      <td>0</td>\n",
       "      <td>210000.00</td>\n",
       "      <td>1.9</td>\n",
       "      <td>137</td>\n",
       "      <td>1</td>\n",
       "      <td>0</td>\n",
       "      <td>7</td>\n",
       "      <td>1</td>\n",
       "    </tr>\n",
       "    <tr>\n",
       "      <th>4</th>\n",
       "      <td>65.0</td>\n",
       "      <td>1</td>\n",
       "      <td>160</td>\n",
       "      <td>1</td>\n",
       "      <td>20</td>\n",
       "      <td>0</td>\n",
       "      <td>327000.00</td>\n",
       "      <td>2.7</td>\n",
       "      <td>116</td>\n",
       "      <td>0</td>\n",
       "      <td>0</td>\n",
       "      <td>8</td>\n",
       "      <td>1</td>\n",
       "    </tr>\n",
       "  </tbody>\n",
       "</table>\n",
       "</div>"
      ],
      "text/plain": [
       "    age  anaemia  creatinine_phosphokinase  diabetes  ejection_fraction  \\\n",
       "0  75.0        0                       582         0                 20   \n",
       "1  55.0        0                      7861         0                 38   \n",
       "2  65.0        0                       146         0                 20   \n",
       "3  50.0        1                       111         0                 20   \n",
       "4  65.0        1                       160         1                 20   \n",
       "\n",
       "   high_blood_pressure  platelets  serum_creatinine  serum_sodium  sex  \\\n",
       "0                    1  265000.00               1.9           130    1   \n",
       "1                    0  263358.03               1.1           136    1   \n",
       "2                    0  162000.00               1.3           129    1   \n",
       "3                    0  210000.00               1.9           137    1   \n",
       "4                    0  327000.00               2.7           116    0   \n",
       "\n",
       "   smoking  time  DEATH_EVENT  \n",
       "0        0     4            1  \n",
       "1        0     6            1  \n",
       "2        1     7            1  \n",
       "3        0     7            1  \n",
       "4        0     8            1  "
      ]
     },
     "execution_count": 3,
     "metadata": {},
     "output_type": "execute_result"
    }
   ],
   "source": [
    "# Raw data\n",
    "heart.head()"
   ]
  },
  {
   "cell_type": "code",
   "execution_count": 4,
   "id": "81c7b7ec",
   "metadata": {},
   "outputs": [
    {
     "name": "stdout",
     "output_type": "stream",
     "text": [
      "<class 'pandas.core.frame.DataFrame'>\n",
      "RangeIndex: 299 entries, 0 to 298\n",
      "Data columns (total 13 columns):\n",
      " #   Column                    Non-Null Count  Dtype  \n",
      "---  ------                    --------------  -----  \n",
      " 0   age                       299 non-null    float64\n",
      " 1   anaemia                   299 non-null    int64  \n",
      " 2   creatinine_phosphokinase  299 non-null    int64  \n",
      " 3   diabetes                  299 non-null    int64  \n",
      " 4   ejection_fraction         299 non-null    int64  \n",
      " 5   high_blood_pressure       299 non-null    int64  \n",
      " 6   platelets                 299 non-null    float64\n",
      " 7   serum_creatinine          299 non-null    float64\n",
      " 8   serum_sodium              299 non-null    int64  \n",
      " 9   sex                       299 non-null    int64  \n",
      " 10  smoking                   299 non-null    int64  \n",
      " 11  time                      299 non-null    int64  \n",
      " 12  DEATH_EVENT               299 non-null    int64  \n",
      "dtypes: float64(3), int64(10)\n",
      "memory usage: 30.5 KB\n"
     ]
    }
   ],
   "source": [
    "# Descrever os dados\n",
    "heart.info()"
   ]
  },
  {
   "cell_type": "markdown",
   "id": "aa1c263b",
   "metadata": {},
   "source": [
    "- Sem missing values"
   ]
  },
  {
   "cell_type": "markdown",
   "id": "bae904ce",
   "metadata": {},
   "source": [
    "# Pré análise de correlação de features com o target"
   ]
  },
  {
   "cell_type": "code",
   "execution_count": 5,
   "id": "cf7ee9f0",
   "metadata": {},
   "outputs": [
    {
     "data": {
      "text/plain": [
       "time                       -0.526964\n",
       "ejection_fraction          -0.268603\n",
       "serum_sodium               -0.195204\n",
       "platelets                  -0.049139\n",
       "smoking                    -0.012623\n",
       "sex                        -0.004316\n",
       "diabetes                   -0.001943\n",
       "creatinine_phosphokinase    0.062728\n",
       "anaemia                     0.066270\n",
       "high_blood_pressure         0.079351\n",
       "age                         0.253729\n",
       "serum_creatinine            0.294278\n",
       "DEATH_EVENT                 1.000000\n",
       "Name: DEATH_EVENT, dtype: float64"
      ]
     },
     "execution_count": 5,
     "metadata": {},
     "output_type": "execute_result"
    }
   ],
   "source": [
    "# Ver correlação\n",
    "heart.corr()[\"DEATH_EVENT\"].sort_values()"
   ]
  },
  {
   "cell_type": "markdown",
   "id": "45decab6",
   "metadata": {},
   "source": [
    "Por correlação: as features **(i) time**, **(ii) serum_creatinine**,  **(iii) ejection_fraction**, **(iv) age**, **(v) serum_sodium** tem uma baixa correlação com **DEATH_EVENT** para prever uma falha no coração."
   ]
  },
  {
   "cell_type": "markdown",
   "id": "a5bc4454",
   "metadata": {},
   "source": [
    "----"
   ]
  },
  {
   "cell_type": "markdown",
   "id": "6185ff79",
   "metadata": {},
   "source": [
    "## Renomear features categóricas"
   ]
  },
  {
   "cell_type": "code",
   "execution_count": 6,
   "id": "31fe05e8",
   "metadata": {},
   "outputs": [],
   "source": [
    "heart[\"anaemia\"].replace({0: \"No\", 1: \"Yes\"}, inplace = True)\n",
    "heart[\"diabetes\"].replace({0: \"No\", 1: \"Yes\"}, inplace = True)\n",
    "heart[\"high_blood_pressure\"].replace({0: \"No\", 1: \"Yes\"}, inplace = True)\n",
    "heart[\"smoking\"].replace({0: \"No\", 1: \"Yes\"}, inplace = True)\n",
    "\n",
    "heart[\"sex\"].replace({0: \"Woman\", 1: \"Man\"}, inplace = True)\n",
    "\n",
    "heart[\"DEATH_EVENT\"].replace({0: \"Survived\", 1: \"Dead\"}, inplace = True)"
   ]
  },
  {
   "cell_type": "code",
   "execution_count": 7,
   "id": "a89f56e8",
   "metadata": {},
   "outputs": [
    {
     "data": {
      "text/html": [
       "<div>\n",
       "<style scoped>\n",
       "    .dataframe tbody tr th:only-of-type {\n",
       "        vertical-align: middle;\n",
       "    }\n",
       "\n",
       "    .dataframe tbody tr th {\n",
       "        vertical-align: top;\n",
       "    }\n",
       "\n",
       "    .dataframe thead th {\n",
       "        text-align: right;\n",
       "    }\n",
       "</style>\n",
       "<table border=\"1\" class=\"dataframe\">\n",
       "  <thead>\n",
       "    <tr style=\"text-align: right;\">\n",
       "      <th></th>\n",
       "      <th>age</th>\n",
       "      <th>anaemia</th>\n",
       "      <th>creatinine_phosphokinase</th>\n",
       "      <th>diabetes</th>\n",
       "      <th>ejection_fraction</th>\n",
       "      <th>high_blood_pressure</th>\n",
       "      <th>platelets</th>\n",
       "      <th>serum_creatinine</th>\n",
       "      <th>serum_sodium</th>\n",
       "      <th>sex</th>\n",
       "      <th>smoking</th>\n",
       "      <th>time</th>\n",
       "      <th>DEATH_EVENT</th>\n",
       "    </tr>\n",
       "  </thead>\n",
       "  <tbody>\n",
       "    <tr>\n",
       "      <th>0</th>\n",
       "      <td>75.0</td>\n",
       "      <td>No</td>\n",
       "      <td>582</td>\n",
       "      <td>No</td>\n",
       "      <td>20</td>\n",
       "      <td>Yes</td>\n",
       "      <td>265000.00</td>\n",
       "      <td>1.9</td>\n",
       "      <td>130</td>\n",
       "      <td>Man</td>\n",
       "      <td>No</td>\n",
       "      <td>4</td>\n",
       "      <td>Dead</td>\n",
       "    </tr>\n",
       "    <tr>\n",
       "      <th>1</th>\n",
       "      <td>55.0</td>\n",
       "      <td>No</td>\n",
       "      <td>7861</td>\n",
       "      <td>No</td>\n",
       "      <td>38</td>\n",
       "      <td>No</td>\n",
       "      <td>263358.03</td>\n",
       "      <td>1.1</td>\n",
       "      <td>136</td>\n",
       "      <td>Man</td>\n",
       "      <td>No</td>\n",
       "      <td>6</td>\n",
       "      <td>Dead</td>\n",
       "    </tr>\n",
       "    <tr>\n",
       "      <th>2</th>\n",
       "      <td>65.0</td>\n",
       "      <td>No</td>\n",
       "      <td>146</td>\n",
       "      <td>No</td>\n",
       "      <td>20</td>\n",
       "      <td>No</td>\n",
       "      <td>162000.00</td>\n",
       "      <td>1.3</td>\n",
       "      <td>129</td>\n",
       "      <td>Man</td>\n",
       "      <td>Yes</td>\n",
       "      <td>7</td>\n",
       "      <td>Dead</td>\n",
       "    </tr>\n",
       "    <tr>\n",
       "      <th>3</th>\n",
       "      <td>50.0</td>\n",
       "      <td>Yes</td>\n",
       "      <td>111</td>\n",
       "      <td>No</td>\n",
       "      <td>20</td>\n",
       "      <td>No</td>\n",
       "      <td>210000.00</td>\n",
       "      <td>1.9</td>\n",
       "      <td>137</td>\n",
       "      <td>Man</td>\n",
       "      <td>No</td>\n",
       "      <td>7</td>\n",
       "      <td>Dead</td>\n",
       "    </tr>\n",
       "    <tr>\n",
       "      <th>4</th>\n",
       "      <td>65.0</td>\n",
       "      <td>Yes</td>\n",
       "      <td>160</td>\n",
       "      <td>Yes</td>\n",
       "      <td>20</td>\n",
       "      <td>No</td>\n",
       "      <td>327000.00</td>\n",
       "      <td>2.7</td>\n",
       "      <td>116</td>\n",
       "      <td>Woman</td>\n",
       "      <td>No</td>\n",
       "      <td>8</td>\n",
       "      <td>Dead</td>\n",
       "    </tr>\n",
       "  </tbody>\n",
       "</table>\n",
       "</div>"
      ],
      "text/plain": [
       "    age anaemia  creatinine_phosphokinase diabetes  ejection_fraction  \\\n",
       "0  75.0      No                       582       No                 20   \n",
       "1  55.0      No                      7861       No                 38   \n",
       "2  65.0      No                       146       No                 20   \n",
       "3  50.0     Yes                       111       No                 20   \n",
       "4  65.0     Yes                       160      Yes                 20   \n",
       "\n",
       "  high_blood_pressure  platelets  serum_creatinine  serum_sodium    sex  \\\n",
       "0                 Yes  265000.00               1.9           130    Man   \n",
       "1                  No  263358.03               1.1           136    Man   \n",
       "2                  No  162000.00               1.3           129    Man   \n",
       "3                  No  210000.00               1.9           137    Man   \n",
       "4                  No  327000.00               2.7           116  Woman   \n",
       "\n",
       "  smoking  time DEATH_EVENT  \n",
       "0      No     4        Dead  \n",
       "1      No     6        Dead  \n",
       "2     Yes     7        Dead  \n",
       "3      No     7        Dead  \n",
       "4      No     8        Dead  "
      ]
     },
     "execution_count": 7,
     "metadata": {},
     "output_type": "execute_result"
    }
   ],
   "source": [
    "heart.head()"
   ]
  },
  {
   "cell_type": "markdown",
   "id": "0170e5ee",
   "metadata": {},
   "source": [
    "---"
   ]
  },
  {
   "cell_type": "markdown",
   "id": "0eef35c2",
   "metadata": {},
   "source": [
    "## Análise da coluna target (DEATH_EVENT)"
   ]
  },
  {
   "cell_type": "code",
   "execution_count": 8,
   "id": "d6a3e7c2",
   "metadata": {},
   "outputs": [
    {
     "data": {
      "text/plain": [
       "Survived    203\n",
       "Dead         96\n",
       "Name: DEATH_EVENT, dtype: int64"
      ]
     },
     "execution_count": 8,
     "metadata": {},
     "output_type": "execute_result"
    }
   ],
   "source": [
    "# Survived or Dead\n",
    "heart['DEATH_EVENT'].value_counts()"
   ]
  },
  {
   "cell_type": "code",
   "execution_count": 9,
   "id": "e2b74a4f",
   "metadata": {},
   "outputs": [
    {
     "data": {
      "text/plain": [
       "Survived    0.67893\n",
       "Dead        0.32107\n",
       "Name: DEATH_EVENT, dtype: float64"
      ]
     },
     "execution_count": 9,
     "metadata": {},
     "output_type": "execute_result"
    }
   ],
   "source": [
    "# Proportion\n",
    "heart['DEATH_EVENT'].value_counts(normalize = True)"
   ]
  },
  {
   "cell_type": "markdown",
   "id": "007d748e",
   "metadata": {},
   "source": [
    "Proporção de sobreviventes e falecidos de 2:1"
   ]
  },
  {
   "cell_type": "markdown",
   "id": "d1560209",
   "metadata": {},
   "source": [
    "---"
   ]
  },
  {
   "cell_type": "markdown",
   "id": "829fe0b4",
   "metadata": {},
   "source": [
    "# Variáveis categóricas"
   ]
  },
  {
   "cell_type": "markdown",
   "id": "98d445eb",
   "metadata": {},
   "source": [
    "## sex"
   ]
  },
  {
   "cell_type": "code",
   "execution_count": 19,
   "id": "6c54f0c9",
   "metadata": {},
   "outputs": [
    {
     "data": {
      "text/html": [
       "<div>\n",
       "<style scoped>\n",
       "    .dataframe tbody tr th:only-of-type {\n",
       "        vertical-align: middle;\n",
       "    }\n",
       "\n",
       "    .dataframe tbody tr th {\n",
       "        vertical-align: top;\n",
       "    }\n",
       "\n",
       "    .dataframe thead th {\n",
       "        text-align: right;\n",
       "    }\n",
       "</style>\n",
       "<table border=\"1\" class=\"dataframe\">\n",
       "  <thead>\n",
       "    <tr style=\"text-align: right;\">\n",
       "      <th></th>\n",
       "      <th></th>\n",
       "      <th>total</th>\n",
       "      <th>proporcao</th>\n",
       "    </tr>\n",
       "    <tr>\n",
       "      <th>sex</th>\n",
       "      <th>DEATH_EVENT</th>\n",
       "      <th></th>\n",
       "      <th></th>\n",
       "    </tr>\n",
       "  </thead>\n",
       "  <tbody>\n",
       "    <tr>\n",
       "      <th rowspan=\"2\" valign=\"top\">Man</th>\n",
       "      <th>Dead</th>\n",
       "      <td>62</td>\n",
       "      <td>0.319588</td>\n",
       "    </tr>\n",
       "    <tr>\n",
       "      <th>Survived</th>\n",
       "      <td>132</td>\n",
       "      <td>0.680412</td>\n",
       "    </tr>\n",
       "    <tr>\n",
       "      <th rowspan=\"2\" valign=\"top\">Woman</th>\n",
       "      <th>Dead</th>\n",
       "      <td>34</td>\n",
       "      <td>0.323810</td>\n",
       "    </tr>\n",
       "    <tr>\n",
       "      <th>Survived</th>\n",
       "      <td>71</td>\n",
       "      <td>0.676190</td>\n",
       "    </tr>\n",
       "  </tbody>\n",
       "</table>\n",
       "</div>"
      ],
      "text/plain": [
       "                   total  proporcao\n",
       "sex   DEATH_EVENT                  \n",
       "Man   Dead            62   0.319588\n",
       "      Survived       132   0.680412\n",
       "Woman Dead            34   0.323810\n",
       "      Survived        71   0.676190"
      ]
     },
     "execution_count": 19,
     "metadata": {},
     "output_type": "execute_result"
    }
   ],
   "source": [
    "sex = heart.groupby([\"sex\", \"DEATH_EVENT\"])[[\"sex\"]].count()\n",
    "sex['proporcao'] = heart.groupby([\"sex\", \"DEATH_EVENT\"])[[\"sex\"]].count()/heart.groupby([\"sex\"])[[\"sex\"]].count()\n",
    "sex.rename({'sex':'total'}, axis=1, inplace=True)\n",
    "sex"
   ]
  },
  {
   "cell_type": "markdown",
   "id": "e845e03d",
   "metadata": {},
   "source": [
    "Proporção de falecidos e sobreviventes para ambos os sexos são iguais à proporção geral. Portanto, **sex** não é um fator determinante para prever uma ocorrência de morte."
   ]
  },
  {
   "cell_type": "markdown",
   "id": "780d82cb",
   "metadata": {},
   "source": [
    "---"
   ]
  },
  {
   "cell_type": "markdown",
   "id": "e7170336",
   "metadata": {},
   "source": [
    "## smoking"
   ]
  },
  {
   "cell_type": "code",
   "execution_count": 22,
   "id": "d040498c",
   "metadata": {},
   "outputs": [
    {
     "data": {
      "text/html": [
       "<div>\n",
       "<style scoped>\n",
       "    .dataframe tbody tr th:only-of-type {\n",
       "        vertical-align: middle;\n",
       "    }\n",
       "\n",
       "    .dataframe tbody tr th {\n",
       "        vertical-align: top;\n",
       "    }\n",
       "\n",
       "    .dataframe thead th {\n",
       "        text-align: right;\n",
       "    }\n",
       "</style>\n",
       "<table border=\"1\" class=\"dataframe\">\n",
       "  <thead>\n",
       "    <tr style=\"text-align: right;\">\n",
       "      <th></th>\n",
       "      <th></th>\n",
       "      <th>total</th>\n",
       "      <th>proporcao</th>\n",
       "    </tr>\n",
       "    <tr>\n",
       "      <th>smoking</th>\n",
       "      <th>DEATH_EVENT</th>\n",
       "      <th></th>\n",
       "      <th></th>\n",
       "    </tr>\n",
       "  </thead>\n",
       "  <tbody>\n",
       "    <tr>\n",
       "      <th rowspan=\"2\" valign=\"top\">No</th>\n",
       "      <th>Dead</th>\n",
       "      <td>66</td>\n",
       "      <td>0.325123</td>\n",
       "    </tr>\n",
       "    <tr>\n",
       "      <th>Survived</th>\n",
       "      <td>137</td>\n",
       "      <td>0.674877</td>\n",
       "    </tr>\n",
       "    <tr>\n",
       "      <th rowspan=\"2\" valign=\"top\">Yes</th>\n",
       "      <th>Dead</th>\n",
       "      <td>30</td>\n",
       "      <td>0.312500</td>\n",
       "    </tr>\n",
       "    <tr>\n",
       "      <th>Survived</th>\n",
       "      <td>66</td>\n",
       "      <td>0.687500</td>\n",
       "    </tr>\n",
       "  </tbody>\n",
       "</table>\n",
       "</div>"
      ],
      "text/plain": [
       "                     total  proporcao\n",
       "smoking DEATH_EVENT                  \n",
       "No      Dead            66   0.325123\n",
       "        Survived       137   0.674877\n",
       "Yes     Dead            30   0.312500\n",
       "        Survived        66   0.687500"
      ]
     },
     "execution_count": 22,
     "metadata": {},
     "output_type": "execute_result"
    }
   ],
   "source": [
    "smoking = heart.groupby([\"smoking\", \"DEATH_EVENT\"])[[\"smoking\"]].count()\n",
    "smoking['proporcao'] = heart.groupby([\"smoking\", \"DEATH_EVENT\"])[[\"smoking\"]].count()/heart.groupby([\"smoking\"])[[\"smoking\"]].count()\n",
    "smoking.rename({'smoking':'total'}, axis=1, inplace=True)\n",
    "smoking"
   ]
  },
  {
   "cell_type": "markdown",
   "id": "2b840b42",
   "metadata": {},
   "source": [
    "Proporção de falecidos e sobreviventes para quem fuma é igual à proporção geral. Portanto, **smoking** não é um fator determinante para prever uma ocorrência de morte."
   ]
  },
  {
   "cell_type": "markdown",
   "id": "349d1c0e",
   "metadata": {},
   "source": [
    "---"
   ]
  },
  {
   "cell_type": "markdown",
   "id": "d57dc17e",
   "metadata": {},
   "source": [
    "## diabetes"
   ]
  },
  {
   "cell_type": "code",
   "execution_count": 23,
   "id": "4d518468",
   "metadata": {},
   "outputs": [
    {
     "data": {
      "text/html": [
       "<div>\n",
       "<style scoped>\n",
       "    .dataframe tbody tr th:only-of-type {\n",
       "        vertical-align: middle;\n",
       "    }\n",
       "\n",
       "    .dataframe tbody tr th {\n",
       "        vertical-align: top;\n",
       "    }\n",
       "\n",
       "    .dataframe thead th {\n",
       "        text-align: right;\n",
       "    }\n",
       "</style>\n",
       "<table border=\"1\" class=\"dataframe\">\n",
       "  <thead>\n",
       "    <tr style=\"text-align: right;\">\n",
       "      <th></th>\n",
       "      <th></th>\n",
       "      <th>total</th>\n",
       "      <th>proporcao</th>\n",
       "    </tr>\n",
       "    <tr>\n",
       "      <th>diabetes</th>\n",
       "      <th>DEATH_EVENT</th>\n",
       "      <th></th>\n",
       "      <th></th>\n",
       "    </tr>\n",
       "  </thead>\n",
       "  <tbody>\n",
       "    <tr>\n",
       "      <th rowspan=\"2\" valign=\"top\">No</th>\n",
       "      <th>Dead</th>\n",
       "      <td>56</td>\n",
       "      <td>0.321839</td>\n",
       "    </tr>\n",
       "    <tr>\n",
       "      <th>Survived</th>\n",
       "      <td>118</td>\n",
       "      <td>0.678161</td>\n",
       "    </tr>\n",
       "    <tr>\n",
       "      <th rowspan=\"2\" valign=\"top\">Yes</th>\n",
       "      <th>Dead</th>\n",
       "      <td>40</td>\n",
       "      <td>0.320000</td>\n",
       "    </tr>\n",
       "    <tr>\n",
       "      <th>Survived</th>\n",
       "      <td>85</td>\n",
       "      <td>0.680000</td>\n",
       "    </tr>\n",
       "  </tbody>\n",
       "</table>\n",
       "</div>"
      ],
      "text/plain": [
       "                      total  proporcao\n",
       "diabetes DEATH_EVENT                  \n",
       "No       Dead            56   0.321839\n",
       "         Survived       118   0.678161\n",
       "Yes      Dead            40   0.320000\n",
       "         Survived        85   0.680000"
      ]
     },
     "execution_count": 23,
     "metadata": {},
     "output_type": "execute_result"
    }
   ],
   "source": [
    "diabetes = heart.groupby([\"diabetes\", \"DEATH_EVENT\"])[[\"diabetes\"]].count()\n",
    "diabetes['proporcao'] = heart.groupby([\"diabetes\", \"DEATH_EVENT\"])[[\"diabetes\"]].count()/heart.groupby([\"diabetes\"])[[\"diabetes\"]].count()\n",
    "diabetes.rename({'diabetes':'total'}, axis=1, inplace=True)\n",
    "diabetes"
   ]
  },
  {
   "cell_type": "markdown",
   "id": "7c8ad04e",
   "metadata": {},
   "source": [
    "Proporção de falecidos e sobreviventes para quem tem **diabetes** é igual à proporção geral. Portanto, **diabetes** não é um fator determinante para prever uma ocorrência de morte."
   ]
  },
  {
   "cell_type": "markdown",
   "id": "7cec7775",
   "metadata": {},
   "source": [
    "---"
   ]
  },
  {
   "cell_type": "markdown",
   "id": "f87dd0b5",
   "metadata": {},
   "source": [
    "## anaemia"
   ]
  },
  {
   "cell_type": "code",
   "execution_count": 24,
   "id": "8ef79a55",
   "metadata": {},
   "outputs": [
    {
     "data": {
      "text/html": [
       "<div>\n",
       "<style scoped>\n",
       "    .dataframe tbody tr th:only-of-type {\n",
       "        vertical-align: middle;\n",
       "    }\n",
       "\n",
       "    .dataframe tbody tr th {\n",
       "        vertical-align: top;\n",
       "    }\n",
       "\n",
       "    .dataframe thead th {\n",
       "        text-align: right;\n",
       "    }\n",
       "</style>\n",
       "<table border=\"1\" class=\"dataframe\">\n",
       "  <thead>\n",
       "    <tr style=\"text-align: right;\">\n",
       "      <th></th>\n",
       "      <th></th>\n",
       "      <th>total</th>\n",
       "      <th>proporcao</th>\n",
       "    </tr>\n",
       "    <tr>\n",
       "      <th>anaemia</th>\n",
       "      <th>DEATH_EVENT</th>\n",
       "      <th></th>\n",
       "      <th></th>\n",
       "    </tr>\n",
       "  </thead>\n",
       "  <tbody>\n",
       "    <tr>\n",
       "      <th rowspan=\"2\" valign=\"top\">No</th>\n",
       "      <th>Dead</th>\n",
       "      <td>50</td>\n",
       "      <td>0.294118</td>\n",
       "    </tr>\n",
       "    <tr>\n",
       "      <th>Survived</th>\n",
       "      <td>120</td>\n",
       "      <td>0.705882</td>\n",
       "    </tr>\n",
       "    <tr>\n",
       "      <th rowspan=\"2\" valign=\"top\">Yes</th>\n",
       "      <th>Dead</th>\n",
       "      <td>46</td>\n",
       "      <td>0.356589</td>\n",
       "    </tr>\n",
       "    <tr>\n",
       "      <th>Survived</th>\n",
       "      <td>83</td>\n",
       "      <td>0.643411</td>\n",
       "    </tr>\n",
       "  </tbody>\n",
       "</table>\n",
       "</div>"
      ],
      "text/plain": [
       "                     total  proporcao\n",
       "anaemia DEATH_EVENT                  \n",
       "No      Dead            50   0.294118\n",
       "        Survived       120   0.705882\n",
       "Yes     Dead            46   0.356589\n",
       "        Survived        83   0.643411"
      ]
     },
     "execution_count": 24,
     "metadata": {},
     "output_type": "execute_result"
    }
   ],
   "source": [
    "anaemia = heart.groupby([\"anaemia\", \"DEATH_EVENT\"])[[\"anaemia\"]].count()\n",
    "anaemia['proporcao'] = heart.groupby([\"anaemia\", \"DEATH_EVENT\"])[[\"anaemia\"]].count()/heart.groupby([\"anaemia\"])[[\"anaemia\"]].count()\n",
    "anaemia.rename({'anaemia':'total'}, axis=1, inplace=True)\n",
    "anaemia"
   ]
  },
  {
   "cell_type": "markdown",
   "id": "27d1c97b",
   "metadata": {},
   "source": [
    "Proporção de sobreviventes e falecidos para quem tem **anaemia** é similar à proporção geral. Portanto, **anaemia** não é um fator determinante para prever uma ocorrência de morte."
   ]
  },
  {
   "cell_type": "markdown",
   "id": "455e7b20",
   "metadata": {},
   "source": [
    "---"
   ]
  },
  {
   "cell_type": "markdown",
   "id": "110fa7ef",
   "metadata": {},
   "source": [
    "## high_blood_pressure"
   ]
  },
  {
   "cell_type": "code",
   "execution_count": 25,
   "id": "6df7466a",
   "metadata": {},
   "outputs": [
    {
     "data": {
      "text/html": [
       "<div>\n",
       "<style scoped>\n",
       "    .dataframe tbody tr th:only-of-type {\n",
       "        vertical-align: middle;\n",
       "    }\n",
       "\n",
       "    .dataframe tbody tr th {\n",
       "        vertical-align: top;\n",
       "    }\n",
       "\n",
       "    .dataframe thead th {\n",
       "        text-align: right;\n",
       "    }\n",
       "</style>\n",
       "<table border=\"1\" class=\"dataframe\">\n",
       "  <thead>\n",
       "    <tr style=\"text-align: right;\">\n",
       "      <th></th>\n",
       "      <th></th>\n",
       "      <th>total</th>\n",
       "      <th>proporcao</th>\n",
       "    </tr>\n",
       "    <tr>\n",
       "      <th>high_blood_pressure</th>\n",
       "      <th>DEATH_EVENT</th>\n",
       "      <th></th>\n",
       "      <th></th>\n",
       "    </tr>\n",
       "  </thead>\n",
       "  <tbody>\n",
       "    <tr>\n",
       "      <th rowspan=\"2\" valign=\"top\">No</th>\n",
       "      <th>Dead</th>\n",
       "      <td>57</td>\n",
       "      <td>0.293814</td>\n",
       "    </tr>\n",
       "    <tr>\n",
       "      <th>Survived</th>\n",
       "      <td>137</td>\n",
       "      <td>0.706186</td>\n",
       "    </tr>\n",
       "    <tr>\n",
       "      <th rowspan=\"2\" valign=\"top\">Yes</th>\n",
       "      <th>Dead</th>\n",
       "      <td>39</td>\n",
       "      <td>0.371429</td>\n",
       "    </tr>\n",
       "    <tr>\n",
       "      <th>Survived</th>\n",
       "      <td>66</td>\n",
       "      <td>0.628571</td>\n",
       "    </tr>\n",
       "  </tbody>\n",
       "</table>\n",
       "</div>"
      ],
      "text/plain": [
       "                                 total  proporcao\n",
       "high_blood_pressure DEATH_EVENT                  \n",
       "No                  Dead            57   0.293814\n",
       "                    Survived       137   0.706186\n",
       "Yes                 Dead            39   0.371429\n",
       "                    Survived        66   0.628571"
      ]
     },
     "execution_count": 25,
     "metadata": {},
     "output_type": "execute_result"
    }
   ],
   "source": [
    "high_pressure = heart.groupby([\"high_blood_pressure\", \"DEATH_EVENT\"])[[\"high_blood_pressure\"]].count()\n",
    "high_pressure['proporcao'] = heart.groupby([\"high_blood_pressure\", \"DEATH_EVENT\"])[[\"high_blood_pressure\"]].count()/heart.groupby([\"high_blood_pressure\"])[[\"high_blood_pressure\"]].count()\n",
    "high_pressure.rename({'high_blood_pressure':'total'}, axis=1, inplace=True)\n",
    "high_pressure"
   ]
  },
  {
   "cell_type": "markdown",
   "id": "548d9d01",
   "metadata": {},
   "source": [
    "Proporção de sobreviventes e falecidos para quem tem pressão alta é similar à proporção geral. Portanto, **high_blood_pressure** não é um fator determinante para prever uma ocorrência de morte."
   ]
  },
  {
   "cell_type": "markdown",
   "id": "6963ae8b",
   "metadata": {},
   "source": [
    "---"
   ]
  },
  {
   "cell_type": "markdown",
   "id": "8613a983",
   "metadata": {},
   "source": [
    "# Variáveis numéricas"
   ]
  },
  {
   "cell_type": "markdown",
   "id": "30a7b893",
   "metadata": {},
   "source": [
    "---"
   ]
  },
  {
   "cell_type": "markdown",
   "id": "8ef6d41f",
   "metadata": {},
   "source": [
    "### Teste de hipótese\n",
    "\n",
    "- $H_{0}$ : A média de **-feature-** para falecidos é igual a média para sobreviventes\n",
    "- $H_{1}$ : A média de **-feature-** para falecidos é diferente da média para sobreviventes\n",
    "\n",
    "**Paired Sample Z-Test**\n",
    "\n",
    "$$z = \\frac{x_{0,mean} - x_{1,mean}}{\\sqrt{\\frac{\\sigma^2_{0}}{n_{0}}+\\frac{\\sigma^2_{1}}{n_{1}}}}$$\n",
    "\n",
    "Sobreviventes\n",
    "- $x_{0,mean}$\n",
    "- $\\sigma^2_{0}$\n",
    "- $n_{0}$\n",
    "\n",
    "Falecidos\n",
    "- $x_{1,mean}$\n",
    "- $\\sigma^2_{1}$\n",
    "- $n_{1}$\n",
    "-------\n",
    "- $\\alpha$ = 0.05\n",
    "- gl = $n_{0}$ + $n_{1}$ - 2 = 203 + 96 - 2 = 297\n",
    "- two-tailed\n",
    "- $Z_{c}$ = 1.96\n",
    "---\n",
    "Se z > $Z_{c}$, então rejeita a hipótese nula"
   ]
  },
  {
   "cell_type": "markdown",
   "id": "ee7af421",
   "metadata": {},
   "source": [
    "---"
   ]
  },
  {
   "cell_type": "markdown",
   "id": "22a84e6d",
   "metadata": {},
   "source": [
    "## age"
   ]
  },
  {
   "cell_type": "code",
   "execution_count": 84,
   "id": "a4f4cd8a",
   "metadata": {},
   "outputs": [
    {
     "name": "stdout",
     "output_type": "stream",
     "text": [
      "Pessoas falecidas\n",
      "65.0\n",
      "13.214555639583372\n",
      "\n",
      "Pessoas vivas\n",
      "60.0\n",
      "10.637890226515534\n"
     ]
    }
   ],
   "source": [
    "print(\"Pessoas falecidas\")\n",
    "print(heart[heart[\"DEATH_EVENT\"] == 'Dead']['age'].median())\n",
    "print(heart[heart[\"DEATH_EVENT\"] == 'Dead']['age'].std())\n",
    "print()\n",
    "print(\"Pessoas vivas\")\n",
    "print(heart[heart[\"DEATH_EVENT\"] == 'Survived']['age'].median())\n",
    "print(heart[heart[\"DEATH_EVENT\"] == 'Survived']['age'].std())"
   ]
  },
  {
   "cell_type": "code",
   "execution_count": 85,
   "id": "a80568e1",
   "metadata": {},
   "outputs": [
    {
     "data": {
      "text/plain": [
       "0.08333333333333333"
      ]
     },
     "execution_count": 85,
     "metadata": {},
     "output_type": "execute_result"
    }
   ],
   "source": [
    "# Diferença relativa entre as médias\n",
    "abs((heart[heart[\"DEATH_EVENT\"] == 'Dead']['age'].median() - heart[heart[\"DEATH_EVENT\"] == 'Survived']['age'].median())/heart[heart[\"DEATH_EVENT\"] == 'Survived']['age'].median())"
   ]
  },
  {
   "cell_type": "markdown",
   "id": "2d6b3498",
   "metadata": {},
   "source": [
    "**Uma diferença relativa baixa**"
   ]
  },
  {
   "cell_type": "markdown",
   "id": "313d0a5c",
   "metadata": {},
   "source": [
    "# Teste-Z"
   ]
  },
  {
   "cell_type": "code",
   "execution_count": 86,
   "id": "c6be1ae8",
   "metadata": {},
   "outputs": [
    {
     "name": "stdout",
     "output_type": "stream",
     "text": [
      "z = 3.244132161308385\n",
      "Rejeita-se a hipótese nula e aceita-se a hipótese alternativa\n"
     ]
    }
   ],
   "source": [
    "# Sobreviventes\n",
    "x0 = 60\n",
    "s2_0 = 10.64**2\n",
    "n0 = 203\n",
    "\n",
    "# Falecidas\n",
    "x1 = 65\n",
    "s2_1 = 13.21**2\n",
    "n1 = 96\n",
    "\n",
    "z = (x0 - x1)/(np.sqrt((s2_0/n0)+(s2_1/n1)))\n",
    "print(f\"z = {abs(z)}\")\n",
    "\n",
    "if abs(z) > 1.96:\n",
    "    print(\"Rejeita-se a hipótese nula e aceita-se a hipótese alternativa\")\n",
    "else:\n",
    "    print(\"Falhou-se em rejeitar a hipótese nula\")"
   ]
  },
  {
   "cell_type": "code",
   "execution_count": 87,
   "id": "9718940a",
   "metadata": {},
   "outputs": [
    {
     "data": {
      "image/png": "[encoded data removed]",
      "text/plain": [
       "<Figure size 432x288 with 1 Axes>"
      ]
     },
     "metadata": {
      "needs_background": "light"
     },
     "output_type": "display_data"
    }
   ],
   "source": [
    "plt.hist(heart[heart[\"DEATH_EVENT\"] == \"Dead\"][\"age\"],  alpha = 0.5, bins = 20, label = 'Dead')\n",
    "plt.hist(heart[heart[\"DEATH_EVENT\"] == \"Survived\"][\"age\"], alpha = 0.5, bins = 20, label = 'Survived')\n",
    "plt.hist(heart[\"age\"], alpha = 0.1, bins = 20, label = 'All')\n",
    "plt.xlabel(\"age\")\n",
    "plt.ylabel(\"counts\")\n",
    "plt.legend()\n",
    "plt.show()"
   ]
  },
  {
   "cell_type": "markdown",
   "id": "46a81d48",
   "metadata": {},
   "source": [
    "As médias e desvio padrão apresentam uma pequena diferença nos extremos a qual pode afetar o teste de hipóteses. A proporção de morte para cada faixa etária varia, sendo as mais velhas com maior probabilidade de morrer, não necessariamente por falha no coração. Portanto, analisar uma faixa etária menor pode ser mais confiável para checar se a idade é um fator determinante para prever a morte de uma pessoa por falha no coração.\n",
    "Nesse caso, foi escolhido uma amostra do dataset, da média até um desvio padrão de distância."
   ]
  },
  {
   "cell_type": "code",
   "execution_count": 88,
   "id": "8a262604",
   "metadata": {},
   "outputs": [
    {
     "name": "stdout",
     "output_type": "stream",
     "text": [
      "Proporção de falecidos em 68.2% (1 desvio padrão de distância): 34.73%\n",
      "Proporção de sobreviventes em 68.2% (1 desvio padrão de distância): 65.27%\n"
     ]
    }
   ],
   "source": [
    "age_dead = heart[(heart[\"age\"] > 52) & (heart[\"age\"] < 78) & (heart[\"DEATH_EVENT\"] == 'Dead')].shape[0]\n",
    "age_survived = heart[(heart[\"age\"] > 50) & (heart[\"age\"] < 70) & (heart[\"DEATH_EVENT\"] == 'Survived')].shape[0]\n",
    "\n",
    "print(f\"Proporção de falecidos em 68.2% (1 desvio padrão de distância): {100 * (age_dead / (age_dead+age_survived)):.2f}%\")\n",
    "print(f\"Proporção de sobreviventes em 68.2% (1 desvio padrão de distância): {100 * (age_survived / (age_dead+age_survived)):.2f}%\")"
   ]
  },
  {
   "cell_type": "markdown",
   "id": "1f1068ce",
   "metadata": {},
   "source": [
    "Nesse caso, podemos considerar que **age** não é um fator determinante para prever uma morte."
   ]
  },
  {
   "cell_type": "markdown",
   "id": "192a1fc5",
   "metadata": {},
   "source": [
    "----"
   ]
  },
  {
   "cell_type": "markdown",
   "id": "653833f9",
   "metadata": {},
   "source": [
    "## creatinine_phosphokinase"
   ]
  },
  {
   "cell_type": "code",
   "execution_count": 89,
   "id": "9146b50e",
   "metadata": {},
   "outputs": [
    {
     "name": "stdout",
     "output_type": "stream",
     "text": [
      "Pessoas falecidas\n",
      "259.0\n",
      "1316.5806399417013\n",
      "\n",
      "Pessoas vivas\n",
      "245.0\n",
      "753.7995715566005\n"
     ]
    }
   ],
   "source": [
    "print(\"Pessoas falecidas\")\n",
    "print(heart[heart[\"DEATH_EVENT\"] == 'Dead']['creatinine_phosphokinase'].median())\n",
    "print(heart[heart[\"DEATH_EVENT\"] == 'Dead']['creatinine_phosphokinase'].std())\n",
    "print()\n",
    "print(\"Pessoas vivas\")\n",
    "print(heart[heart[\"DEATH_EVENT\"] == 'Survived']['creatinine_phosphokinase'].median())\n",
    "print(heart[heart[\"DEATH_EVENT\"] == 'Survived']['creatinine_phosphokinase'].std())"
   ]
  },
  {
   "cell_type": "code",
   "execution_count": 90,
   "id": "e6f5494f",
   "metadata": {},
   "outputs": [
    {
     "data": {
      "text/plain": [
       "0.05714285714285714"
      ]
     },
     "execution_count": 90,
     "metadata": {},
     "output_type": "execute_result"
    }
   ],
   "source": [
    "# Diferença relativa entre as médias\n",
    "abs((heart[heart[\"DEATH_EVENT\"] == 'Dead']['creatinine_phosphokinase'].median() - heart[heart[\"DEATH_EVENT\"] == 'Survived']['creatinine_phosphokinase'].median())/heart[heart[\"DEATH_EVENT\"] == 'Survived']['creatinine_phosphokinase'].median())"
   ]
  },
  {
   "cell_type": "markdown",
   "id": "0ec10bb2",
   "metadata": {},
   "source": [
    "**Uma diferença relativa baixa**"
   ]
  },
  {
   "cell_type": "markdown",
   "id": "36e92d95",
   "metadata": {},
   "source": [
    "### Teste Z"
   ]
  },
  {
   "cell_type": "code",
   "execution_count": 91,
   "id": "948d735d",
   "metadata": {},
   "outputs": [
    {
     "name": "stdout",
     "output_type": "stream",
     "text": [
      "z = 0.09694282223354052\n",
      "Falhou-se em rejeitar a hipótese nula\n"
     ]
    }
   ],
   "source": [
    "# Sobreviventes\n",
    "x0 = 245\n",
    "s2_0 = 568212.9\n",
    "n0 = 203\n",
    "\n",
    "# Falecidas\n",
    "x1 = 259\n",
    "s2_1 = 1733435.6\n",
    "n1 = 96\n",
    "\n",
    "z = (x0 - x1)/(np.sqrt((s2_0/n0)+(s2_1/n1)))\n",
    "print(f\"z = {abs(z)}\")\n",
    "\n",
    "if abs(z) > 1.96:\n",
    "    print(\"Rejeita-se a hipótese nula e aceita-se a hipótese alternativa\")\n",
    "else:\n",
    "    print(\"Falhou-se em rejeitar a hipótese nula\")"
   ]
  },
  {
   "cell_type": "code",
   "execution_count": 92,
   "id": "7feba493",
   "metadata": {},
   "outputs": [
    {
     "data": {
      "image/png": "[encoded data removed]",
      "text/plain": [
       "<Figure size 432x288 with 1 Axes>"
      ]
     },
     "metadata": {
      "needs_background": "light"
     },
     "output_type": "display_data"
    }
   ],
   "source": [
    "plt.hist(heart[heart[\"DEATH_EVENT\"] == \"Dead\"][\"creatinine_phosphokinase\"],  alpha = 0.5, bins = 20, label = 'Dead')\n",
    "plt.hist(heart[heart[\"DEATH_EVENT\"] == \"Survived\"][\"creatinine_phosphokinase\"], alpha = 0.5, bins = 20, label = 'Survived')\n",
    "plt.hist(heart[\"creatinine_phosphokinase\"], alpha = 0.1, bins = 20, label = 'All')\n",
    "plt.xlabel(\"creatinine_phosphokinase\")\n",
    "plt.ylabel(\"counts\")\n",
    "plt.legend()\n",
    "plt.show()"
   ]
  },
  {
   "cell_type": "code",
   "execution_count": 93,
   "id": "cf8e721c",
   "metadata": {},
   "outputs": [
    {
     "data": {
      "text/plain": [
       "79"
      ]
     },
     "execution_count": 93,
     "metadata": {},
     "output_type": "execute_result"
    }
   ],
   "source": [
    "\n",
    "heart[(heart[\"creatinine_phosphokinase\"]) & (heart[\"DEATH_EVENT\"] == 'Survived')].shape[0]"
   ]
  },
  {
   "cell_type": "markdown",
   "id": "b0ca17df",
   "metadata": {},
   "source": [
    "**creatinine_phosphokinase** não é fator determinante para prever uma morte"
   ]
  },
  {
   "cell_type": "markdown",
   "id": "9a9aa8f3",
   "metadata": {},
   "source": [
    "---"
   ]
  },
  {
   "cell_type": "markdown",
   "id": "2ed4a62f",
   "metadata": {},
   "source": [
    "## ejection_fraction"
   ]
  },
  {
   "cell_type": "code",
   "execution_count": 94,
   "id": "dadc42ad",
   "metadata": {},
   "outputs": [
    {
     "name": "stdout",
     "output_type": "stream",
     "text": [
      "Pessoas falecidas\n",
      "30.0\n",
      "12.52530333701386\n",
      "\n",
      "Pessoas vivas\n",
      "38.0\n",
      "10.859962681586294\n"
     ]
    }
   ],
   "source": [
    "print(\"Pessoas falecidas\")\n",
    "print(heart[heart[\"DEATH_EVENT\"] == 'Dead']['ejection_fraction'].median())\n",
    "print(heart[heart[\"DEATH_EVENT\"] == 'Dead']['ejection_fraction'].std())\n",
    "print()\n",
    "print(\"Pessoas vivas\")\n",
    "print(heart[heart[\"DEATH_EVENT\"] == 'Survived']['ejection_fraction'].median())\n",
    "print(heart[heart[\"DEATH_EVENT\"] == 'Survived']['ejection_fraction'].std())"
   ]
  },
  {
   "cell_type": "code",
   "execution_count": 95,
   "id": "1dd4c9d2",
   "metadata": {},
   "outputs": [
    {
     "data": {
      "text/plain": [
       "0.21052631578947367"
      ]
     },
     "execution_count": 95,
     "metadata": {},
     "output_type": "execute_result"
    }
   ],
   "source": [
    "# Diferença relativa entre as médias\n",
    "abs((heart[heart[\"DEATH_EVENT\"] == 'Dead']['ejection_fraction'].median() - heart[heart[\"DEATH_EVENT\"] == 'Survived']['ejection_fraction'].median())/heart[heart[\"DEATH_EVENT\"] == 'Survived']['ejection_fraction'].median())"
   ]
  },
  {
   "cell_type": "markdown",
   "id": "9570779f",
   "metadata": {},
   "source": [
    "**Uma diferença relativa alta**"
   ]
  },
  {
   "cell_type": "markdown",
   "id": "aa7cb2e0",
   "metadata": {},
   "source": [
    "## Teste Z"
   ]
  },
  {
   "cell_type": "code",
   "execution_count": 96,
   "id": "e1248fd9",
   "metadata": {},
   "outputs": [
    {
     "name": "stdout",
     "output_type": "stream",
     "text": [
      "z = 5.376764548697805\n",
      "Rejeita-se a hipótese nula e aceita-se a hipótese alternativa\n"
     ]
    }
   ],
   "source": [
    "# Sobreviventes\n",
    "x0 = 38\n",
    "s2_0 = 117.94\n",
    "n0 = 203\n",
    "\n",
    "# Falecidas\n",
    "x1 = 30\n",
    "s2_1 = 156.75\n",
    "n1 = 96\n",
    "\n",
    "z = (x0 - x1)/(np.sqrt((s2_0/n0)+(s2_1/n1)))\n",
    "print(f\"z = {abs(z)}\")\n",
    "\n",
    "if abs(z) > 1.96:\n",
    "    print(\"Rejeita-se a hipótese nula e aceita-se a hipótese alternativa\")\n",
    "else:\n",
    "    print(\"Falhou-se em rejeitar a hipótese nula\")"
   ]
  },
  {
   "cell_type": "code",
   "execution_count": 97,
   "id": "826a6282",
   "metadata": {},
   "outputs": [
    {
     "data": {
      "image/png": "[encoded data removed]",
      "text/plain": [
       "<Figure size 432x288 with 1 Axes>"
      ]
     },
     "metadata": {
      "needs_background": "light"
     },
     "output_type": "display_data"
    }
   ],
   "source": [
    "plt.hist(heart[heart[\"DEATH_EVENT\"] == \"Dead\"][\"ejection_fraction\"],  alpha = 0.5, bins = 20, label = 'Dead')\n",
    "plt.hist(heart[heart[\"DEATH_EVENT\"] == \"Survived\"][\"ejection_fraction\"], alpha = 0.5, bins = 20, label = 'Survived')\n",
    "plt.hist(heart[\"ejection_fraction\"], alpha = 0.1, bins = 20, label = 'All')\n",
    "plt.xlabel(\"ejection_fraction\")\n",
    "plt.ylabel(\"counts\")\n",
    "plt.legend()\n",
    "plt.show()"
   ]
  },
  {
   "cell_type": "markdown",
   "id": "4e4a37dd",
   "metadata": {},
   "source": [
    "**ejection_fraction** é um fator determinante para prever uma morte por falha no coração"
   ]
  },
  {
   "cell_type": "markdown",
   "id": "fd3c3890",
   "metadata": {},
   "source": [
    "---"
   ]
  },
  {
   "cell_type": "markdown",
   "id": "b293821f",
   "metadata": {},
   "source": [
    "## serum_creatinine"
   ]
  },
  {
   "cell_type": "code",
   "execution_count": 98,
   "id": "a917ed6a",
   "metadata": {},
   "outputs": [
    {
     "name": "stdout",
     "output_type": "stream",
     "text": [
      "Pessoas falecidas\n",
      "1.8358333333333332\n",
      "1.4685615351275343\n",
      "\n",
      "Pessoas vivas\n",
      "1.184876847290641\n",
      "0.6540826541207885\n"
     ]
    }
   ],
   "source": [
    "print(\"Pessoas falecidas\")\n",
    "print(heart[heart[\"DEATH_EVENT\"] == 'Dead']['serum_creatinine'].mean())\n",
    "print(heart[heart[\"DEATH_EVENT\"] == 'Dead']['serum_creatinine'].std())\n",
    "print()\n",
    "print(\"Pessoas vivas\")\n",
    "print(heart[heart[\"DEATH_EVENT\"] == 'Survived']['serum_creatinine'].mean())\n",
    "print(heart[heart[\"DEATH_EVENT\"] == 'Survived']['serum_creatinine'].std())"
   ]
  },
  {
   "cell_type": "code",
   "execution_count": 99,
   "id": "d8393a60",
   "metadata": {},
   "outputs": [
    {
     "data": {
      "text/plain": [
       "0.30000000000000004"
      ]
     },
     "execution_count": 99,
     "metadata": {},
     "output_type": "execute_result"
    }
   ],
   "source": [
    "# Diferença relativa entre as médias\n",
    "abs((heart[heart[\"DEATH_EVENT\"] == 'Dead']['serum_creatinine'].median() - heart[heart[\"DEATH_EVENT\"] == 'Survived']['serum_creatinine'].median())/heart[heart[\"DEATH_EVENT\"] == 'Survived']['serum_creatinine'].median())"
   ]
  },
  {
   "cell_type": "markdown",
   "id": "9ed60bfe",
   "metadata": {},
   "source": [
    "**Uma diferença relativa alta**"
   ]
  },
  {
   "cell_type": "markdown",
   "id": "63356571",
   "metadata": {},
   "source": [
    "## Teste Z"
   ]
  },
  {
   "cell_type": "code",
   "execution_count": 100,
   "id": "2918f0db",
   "metadata": {},
   "outputs": [
    {
     "name": "stdout",
     "output_type": "stream",
     "text": [
      "z = 4.1499181001815435\n",
      "Rejeita-se a hipótese nula e aceita-se a hipótese alternativa\n"
     ]
    }
   ],
   "source": [
    "# Sobreviventes\n",
    "x0 = 1.185\n",
    "s2_0 = 0.428\n",
    "n0 = 203\n",
    "\n",
    "# Falecidas\n",
    "x1 = 1.836\n",
    "s2_1 = 2.16\n",
    "n1 = 96\n",
    "\n",
    "z = (x0 - x1)/(np.sqrt((s2_0/n0)+(s2_1/n1)))\n",
    "print(f\"z = {abs(z)}\")\n",
    "\n",
    "if abs(z) > 1.96:\n",
    "    print(\"Rejeita-se a hipótese nula e aceita-se a hipótese alternativa\")\n",
    "else:\n",
    "    print(\"Falhou-se em rejeitar a hipótese nula\")"
   ]
  },
  {
   "cell_type": "code",
   "execution_count": 101,
   "id": "cd17dce0",
   "metadata": {},
   "outputs": [
    {
     "data": {
      "image/png": "[encoded data removed]",
      "text/plain": [
       "<Figure size 432x288 with 1 Axes>"
      ]
     },
     "metadata": {
      "needs_background": "light"
     },
     "output_type": "display_data"
    }
   ],
   "source": [
    "plt.hist(heart[heart[\"DEATH_EVENT\"] == \"Dead\"][\"serum_creatinine\"],  alpha = 0.5, bins = 20, label = 'Dead', range = (0.5, 2.5))\n",
    "plt.hist(heart[heart[\"DEATH_EVENT\"] == \"Survived\"][\"serum_creatinine\"], alpha = 0.5, bins = 20, label = 'Survived', range = (0.5, 2.5))\n",
    "plt.hist(heart[\"serum_creatinine\"], alpha = 0.1, bins = 20, label = 'All', range = (0.5, 2.5))\n",
    "plt.xlabel(\"serum_creatinine\")\n",
    "plt.ylabel(\"counts\")\n",
    "plt.legend()\n",
    "plt.show()"
   ]
  },
  {
   "cell_type": "markdown",
   "id": "f0d19a92",
   "metadata": {},
   "source": [
    "**serum_creatinine** é um fator determinante para prever uma morte por falha no coração"
   ]
  },
  {
   "cell_type": "markdown",
   "id": "907218f6",
   "metadata": {},
   "source": [
    "----"
   ]
  },
  {
   "cell_type": "markdown",
   "id": "7111076a",
   "metadata": {},
   "source": [
    "## platelets"
   ]
  },
  {
   "cell_type": "code",
   "execution_count": 102,
   "id": "a85c5091",
   "metadata": {},
   "outputs": [
    {
     "name": "stdout",
     "output_type": "stream",
     "text": [
      "Pessoas falecidas\n",
      "256381.0447916667\n",
      "98525.68285648678\n",
      "\n",
      "Pessoas vivas\n",
      "266657.4899014779\n",
      "97531.20228346101\n"
     ]
    }
   ],
   "source": [
    "print(\"Pessoas falecidas\")\n",
    "print(heart[heart[\"DEATH_EVENT\"] == 'Dead']['platelets'].mean())\n",
    "print(heart[heart[\"DEATH_EVENT\"] == 'Dead']['platelets'].std())\n",
    "print()\n",
    "print(\"Pessoas vivas\")\n",
    "print(heart[heart[\"DEATH_EVENT\"] == 'Survived']['platelets'].mean())\n",
    "print(heart[heart[\"DEATH_EVENT\"] == 'Survived']['platelets'].std())"
   ]
  },
  {
   "cell_type": "code",
   "execution_count": 103,
   "id": "0ad0d5d4",
   "metadata": {},
   "outputs": [
    {
     "data": {
      "text/plain": [
       "0.017110266159695818"
      ]
     },
     "execution_count": 103,
     "metadata": {},
     "output_type": "execute_result"
    }
   ],
   "source": [
    "# Diferença relativa entre as médias\n",
    "abs((heart[heart[\"DEATH_EVENT\"] == 'Dead']['platelets'].median() - heart[heart[\"DEATH_EVENT\"] == 'Survived']['platelets'].median())/heart[heart[\"DEATH_EVENT\"] == 'Survived']['platelets'].median())"
   ]
  },
  {
   "cell_type": "markdown",
   "id": "65ac9729",
   "metadata": {},
   "source": [
    "**Uma diferença relativa baixa**"
   ]
  },
  {
   "cell_type": "code",
   "execution_count": 104,
   "id": "82983dd9",
   "metadata": {},
   "outputs": [
    {
     "name": "stdout",
     "output_type": "stream",
     "text": [
      "z = 0.8447857686207411\n",
      "Falhou-se em rejeitar a hipótese nula\n"
     ]
    }
   ],
   "source": [
    "# Sobreviventes\n",
    "x0 = 266657.49\n",
    "s2_0 = 97531.20**2\n",
    "n0 = 203\n",
    "\n",
    "# Falecidas\n",
    "x1 = 256381.04\n",
    "s2_1 = 98525.68**2\n",
    "n1 = 96\n",
    "\n",
    "z = (x0 - x1)/(np.sqrt((s2_0/n0)+(s2_1/n1)))\n",
    "print(f\"z = {abs(z)}\")\n",
    "\n",
    "if abs(z) > 1.96:\n",
    "    print(\"Rejeita-se a hipótese nula e aceita-se a hipótese alternativa\")\n",
    "else:\n",
    "    print(\"Falhou-se em rejeitar a hipótese nula\")"
   ]
  },
  {
   "cell_type": "code",
   "execution_count": 105,
   "id": "6a2d5e65",
   "metadata": {},
   "outputs": [
    {
     "data": {
      "image/png": "[encoded data removed]",
      "text/plain": [
       "<Figure size 432x288 with 1 Axes>"
      ]
     },
     "metadata": {
      "needs_background": "light"
     },
     "output_type": "display_data"
    }
   ],
   "source": [
    "plt.hist(heart[heart[\"DEATH_EVENT\"] == \"Dead\"][\"platelets\"],  alpha = 0.5, bins = 20, label = 'Dead')\n",
    "plt.hist(heart[heart[\"DEATH_EVENT\"] == \"Survived\"][\"platelets\"], alpha = 0.5, bins = 20, label = 'Survived')\n",
    "plt.hist(heart[\"platelets\"], alpha = 0.1, bins = 20, label = 'All')\n",
    "plt.xlabel(\"platelets\")\n",
    "plt.ylabel(\"counts\")\n",
    "plt.legend()\n",
    "plt.show()"
   ]
  },
  {
   "cell_type": "markdown",
   "id": "0cf08796",
   "metadata": {},
   "source": [
    "**platelets** não é fator determinante para prever uma morte"
   ]
  },
  {
   "cell_type": "markdown",
   "id": "ff9c1c10",
   "metadata": {},
   "source": [
    "---"
   ]
  },
  {
   "cell_type": "markdown",
   "id": "7f65e11b",
   "metadata": {},
   "source": [
    "## serum_sodium"
   ]
  },
  {
   "cell_type": "code",
   "execution_count": 106,
   "id": "bbef592f",
   "metadata": {},
   "outputs": [
    {
     "name": "stdout",
     "output_type": "stream",
     "text": [
      "Pessoas falecidas\n",
      "135.375\n",
      "5.00157869813964\n",
      "\n",
      "Pessoas vivas\n",
      "137.2167487684729\n",
      "3.9829233593022115\n"
     ]
    }
   ],
   "source": [
    "print(\"Pessoas falecidas\")\n",
    "print(heart[heart[\"DEATH_EVENT\"] == 'Dead']['serum_sodium'].mean())\n",
    "print(heart[heart[\"DEATH_EVENT\"] == 'Dead']['serum_sodium'].std())\n",
    "print()\n",
    "print(\"Pessoas vivas\")\n",
    "print(heart[heart[\"DEATH_EVENT\"] == 'Survived']['serum_sodium'].mean())\n",
    "print(heart[heart[\"DEATH_EVENT\"] == 'Survived']['serum_sodium'].std())"
   ]
  },
  {
   "cell_type": "code",
   "execution_count": 107,
   "id": "8d973852",
   "metadata": {},
   "outputs": [
    {
     "data": {
      "text/plain": [
       "0.010948905109489052"
      ]
     },
     "execution_count": 107,
     "metadata": {},
     "output_type": "execute_result"
    }
   ],
   "source": [
    "# Diferença relativa entre as médias\n",
    "abs((heart[heart[\"DEATH_EVENT\"] == 'Dead']['serum_sodium'].median() - heart[heart[\"DEATH_EVENT\"] == 'Survived']['serum_sodium'].median())/heart[heart[\"DEATH_EVENT\"] == 'Survived']['serum_sodium'].median())"
   ]
  },
  {
   "cell_type": "markdown",
   "id": "a55394fb",
   "metadata": {},
   "source": [
    "**Uma diferença relativa baixa**"
   ]
  },
  {
   "cell_type": "markdown",
   "id": "dcbe6646",
   "metadata": {},
   "source": [
    "## Teste Z"
   ]
  },
  {
   "cell_type": "code",
   "execution_count": 108,
   "id": "2efac2aa",
   "metadata": {},
   "outputs": [
    {
     "name": "stdout",
     "output_type": "stream",
     "text": [
      "z = 3.170942243443875\n",
      "Rejeita-se a hipótese nula e aceita-se a hipótese alternativa\n"
     ]
    }
   ],
   "source": [
    "# Sobreviventes\n",
    "x0 = 137.22\n",
    "s2_0 = 15.86\n",
    "n0 = 203\n",
    "\n",
    "# Falecidas\n",
    "x1 = 135.375\n",
    "s2_1 = 25\n",
    "n1 = 96\n",
    "\n",
    "z = (x0 - x1)/(np.sqrt((s2_0/n0)+(s2_1/n1)))\n",
    "print(f\"z = {abs(z)}\")\n",
    "\n",
    "if abs(z) > 1.96:\n",
    "    print(\"Rejeita-se a hipótese nula e aceita-se a hipótese alternativa\")\n",
    "else:\n",
    "    print(\"Falhou-se em rejeitar a hipótese nula\")"
   ]
  },
  {
   "cell_type": "code",
   "execution_count": 109,
   "id": "04a26a2b",
   "metadata": {},
   "outputs": [
    {
     "data": {
      "image/png": "[encoded data removed]",
      "text/plain": [
       "<Figure size 432x288 with 1 Axes>"
      ]
     },
     "metadata": {
      "needs_background": "light"
     },
     "output_type": "display_data"
    }
   ],
   "source": [
    "plt.hist(heart[heart[\"DEATH_EVENT\"] == \"Dead\"][\"serum_sodium\"],  alpha = 0.5, bins = 20, label = 'Dead')\n",
    "plt.hist(heart[heart[\"DEATH_EVENT\"] == \"Survived\"][\"serum_sodium\"], alpha = 0.5, bins = 20, label = 'Survived')\n",
    "plt.hist(heart[\"serum_sodium\"], alpha = 0.1, bins = 20, label = 'All')\n",
    "plt.xlabel(\"serum_sodium\")\n",
    "plt.ylabel(\"counts\")\n",
    "plt.legend()\n",
    "plt.show()"
   ]
  },
  {
   "cell_type": "markdown",
   "id": "f948abe5",
   "metadata": {},
   "source": [
    "**serum_sodium** é um fator determinante para prever uma morte por falha no coração de acordo com o teste de hipóteses.\n",
    "Mas a diferença relativa entre as médias é relativamente baixa. O que pode deixar em dúvida se esta feature é realmente determinante."
   ]
  },
  {
   "cell_type": "markdown",
   "id": "46478cfb",
   "metadata": {},
   "source": [
    "---"
   ]
  },
  {
   "cell_type": "markdown",
   "id": "3f22556b",
   "metadata": {},
   "source": [
    "## time"
   ]
  },
  {
   "cell_type": "code",
   "execution_count": 110,
   "id": "f5e81c30",
   "metadata": {},
   "outputs": [
    {
     "name": "stdout",
     "output_type": "stream",
     "text": [
      "Pessoas falecidas\n",
      "70.88541666666667\n",
      "62.378280597904244\n",
      "\n",
      "Pessoas vivas\n",
      "158.3399014778325\n",
      "67.7428724392971\n"
     ]
    }
   ],
   "source": [
    "print(\"Pessoas falecidas\")\n",
    "print(heart[heart[\"DEATH_EVENT\"] == 'Dead']['time'].mean())\n",
    "print(heart[heart[\"DEATH_EVENT\"] == 'Dead']['time'].std())\n",
    "print()\n",
    "print(\"Pessoas vivas\")\n",
    "print(heart[heart[\"DEATH_EVENT\"] == 'Survived']['time'].mean())\n",
    "print(heart[heart[\"DEATH_EVENT\"] == 'Survived']['time'].std())"
   ]
  },
  {
   "cell_type": "code",
   "execution_count": 111,
   "id": "1f32425e",
   "metadata": {},
   "outputs": [
    {
     "data": {
      "text/plain": [
       "0.7412790697674418"
      ]
     },
     "execution_count": 111,
     "metadata": {},
     "output_type": "execute_result"
    }
   ],
   "source": [
    "# Diferença relativa entre as médias\n",
    "abs((heart[heart[\"DEATH_EVENT\"] == 'Dead']['time'].median() - heart[heart[\"DEATH_EVENT\"] == 'Survived']['time'].median())/heart[heart[\"DEATH_EVENT\"] == 'Survived']['time'].median())"
   ]
  },
  {
   "cell_type": "markdown",
   "id": "0c9aa171",
   "metadata": {},
   "source": [
    "**Uma diferença relativa alta**. No entanto, essa feature não faz muito sentido"
   ]
  },
  {
   "cell_type": "code",
   "execution_count": 112,
   "id": "b694bf6c",
   "metadata": {},
   "outputs": [
    {
     "data": {
      "image/png": "[encoded data removed]",
      "text/plain": [
       "<Figure size 432x288 with 1 Axes>"
      ]
     },
     "metadata": {
      "needs_background": "light"
     },
     "output_type": "display_data"
    }
   ],
   "source": [
    "plt.hist(heart[heart[\"DEATH_EVENT\"] == \"Dead\"][\"time\"],  alpha = 0.5, bins = 20, label = 'Dead')\n",
    "plt.hist(heart[heart[\"DEATH_EVENT\"] == \"Survived\"][\"time\"], alpha = 0.5, bins = 20, label = 'Survived')\n",
    "plt.hist(heart[\"time\"], alpha = 0.1, bins = 20, label = 'All')\n",
    "plt.xlabel(\"time\")\n",
    "plt.ylabel(\"counts\")\n",
    "plt.legend()\n",
    "plt.show()"
   ]
  },
  {
   "cell_type": "markdown",
   "id": "244c1958",
   "metadata": {},
   "source": [
    "----"
   ]
  },
  {
   "cell_type": "markdown",
   "id": "35ac14d5",
   "metadata": {},
   "source": [
    "---"
   ]
  },
  {
   "cell_type": "markdown",
   "id": "24166620",
   "metadata": {},
   "source": [
    "# Conclusão"
   ]
  },
  {
   "cell_type": "markdown",
   "id": "36370e1c",
   "metadata": {},
   "source": [
    "- Da pré-análise de correlação, podemos mostrar que **(i) time**, **(ii) serum_creatinine**, **(iii) ejection_fraction**, **(iv) age**, **(v) serum_sodium** tem baixa correlação com **DEATH_EVENT**.\n",
    "- Fazendo uma EDA e um teste de hipóteses, **(ii) serum_creatinine**, **(iii) ejection_fraction** e **(v) serum_sodium** apresentaram a possibilidade de poderem prever uma possível falha no coração.\n",
    "- De acordo com o artigo [1], **serum_creatinine** e **ejection_fraction** são os dois parâmetros utilizados para identificar uma possível falha no coração. Nesse caso, foi utilizado Machine Learning para identificar com maior precisão estes dois parâmetros."
   ]
  },
  {
   "cell_type": "markdown",
   "id": "90e7ae43",
   "metadata": {},
   "source": [
    "# Referência\n",
    "[1] Chicco, D., Jurman, G. Machine learning can predict survival of patients with heart failure from serum creatinine and ejection fraction alone. BMC Med Inform Decis Mak 20, 16 (2020). https://doi.org/10.1186/s12911-020-1023-5"
   ]
  }
 ],
 "metadata": {
  "kernelspec": {
   "display_name": "Python 3",
   "language": "python",
   "name": "python3"
  },
  "language_info": {
   "codemirror_mode": {
    "name": "ipython",
    "version": 3
   },
   "file_extension": ".py",
   "mimetype": "text/x-python",
   "name": "python",
   "nbconvert_exporter": "python",
   "pygments_lexer": "ipython3",
   "version": "3.8.8"
  }
 },
 "nbformat": 4,
 "nbformat_minor": 5
}
